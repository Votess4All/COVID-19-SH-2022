{
 "cells": [
  {
   "cell_type": "code",
   "execution_count": 173,
   "metadata": {},
   "outputs": [],
   "source": [
    "from bs4 import BeautifulSoup\n",
    "import folium\n",
    "from folium import plugins\n",
    "\n",
    "import pandas as pd\n",
    "import requests\n",
    "import numpy as np\n"
   ]
  },
  {
   "cell_type": "code",
   "execution_count": 154,
   "metadata": {},
   "outputs": [],
   "source": [
    "def get_lat_and_lon(location, key=\"512d512d3f82ab80a8697bc138f2fa2a\"):\n",
    "\n",
    "    json_body = {\n",
    "        \"address\": location,\n",
    "        \"output\": \"XML\", \n",
    "        \"key\": key,\n",
    "        \"batch\": True if \"|\" in location else False # every 10 locations will be batching togehter\n",
    "    }\n",
    "    r = requests.post(\n",
    "        \"https://restapi.amap.com/v3/geocode/geo\", data = json_body)\n",
    "\n",
    "    lats_and_lons = []\n",
    "    for geocode in r.json()[\"geocodes\"]:\n",
    "       lats_and_lons.append(list(map(float, geocode[\"location\"].split(\",\")))) \n",
    "    \n",
    "    return lats_and_lons"
   ]
  },
  {
   "cell_type": "code",
   "execution_count": 11,
   "metadata": {},
   "outputs": [
    {
     "name": "stdout",
     "output_type": "stream",
     "text": [
      "[[121.551406  31.168369]\n",
      " [121.599269  31.273567]\n",
      " [121.497626  31.133457]\n",
      " [121.550328  31.165054]]\n"
     ]
    }
   ],
   "source": [
    "def PlotLineOnMap(lats_and_lons):\n",
    "    # 给出的坐标系为GCJ-02，如果需要测试google地图，需要进行坐标转换\n",
    "    tri = np.array(lats_and_lons)\n",
    "    print(tri)\n",
    "    # return\n",
    "\n",
    "    san_map = folium.Map(\n",
    "        location=[121.500766, 31.150915],\n",
    "        zoom_start=16,\n",
    "        # 高德街道图\n",
    "        tiles='http://webrd02.is.autonavi.com/appmaptile?lang=zh_cn&size=1&scale=1&style=7&x={x}&y={y}&z={z}',\n",
    "        # tiles='http://webst02.is.autonavi.com/appmaptile?style=6&x={x}&y={y}&z={z}', # 高德卫星图\n",
    "        attr='default')\n",
    "\n",
    "    # from coord_convert.transform import wgs2gcj, wgs2bd, gcj2wgs, gcj2bd, bd2wgs, bd2gcj \n",
    "    # lon, lat = 121.500766, 31.150915\n",
    "    # gcj_lon, gcj_lat = gcj2wgs(lon, lat)\n",
    "\n",
    "\n",
    "    # folium.PolyLine(tri, color='#3388ff').add_to(san_map)\n",
    "    # marker_cluster = plugins.MarkerCluster().add_to(san_map)\n",
    "    # for lat, lon in lats_and_lons:\n",
    "    #     folium.Marker([lat, lon], color='red').add_to(marker_cluster)\n",
    "    san_map.save('/Users/pengyuyan/Downloads/test.html')\n",
    "\n",
    "\n",
    "def main():\n",
    "    PlotLineOnMap(lats_and_lons)\n",
    "\n",
    "\n",
    "if __name__ == '__main__':\n",
    "    main()\n",
    "\n"
   ]
  },
  {
   "cell_type": "code",
   "execution_count": 129,
   "metadata": {},
   "outputs": [],
   "source": [
    "\n",
    "def get_city_disease_info(\n",
    "    shanghaifabu_url=\"https://mp.weixin.qq.com/s/w8UqtdmBtdLQitM7emOVjw\", city_name=\"上海市\"):\n",
    "\n",
    "    r = requests.get(shanghaifabu_url)\n",
    "    demo = r.text\n",
    "\n",
    "    soup = BeautifulSoup(demo, 'html.parser')\n",
    "    location_div = soup.find(\"div\", attrs={\"class\": \"rich_media_content\"})\n",
    "    locate_section_div = location_div.findAll(\"section\", attrs={\"data-role\": \"title\"})\n",
    "\n",
    "    city_qu_jiedao = {f\"{city_name}\": []}\n",
    "    for i, sub_div in enumerate(locate_section_div):\n",
    "        area_name = sub_div.find(\"strong\").text\n",
    "        ps = sub_div.findAll(\"p\")\n",
    "\n",
    "        area_xiaoqu = []\n",
    "        for j, area_ps in enumerate(ps):        \n",
    "            if j <= 1 or j >= len(ps)-2:\n",
    "                continue\n",
    "\n",
    "            area_xiaoqu.append(f\"{city_name}\"+area_name+area_ps.text.strip(\"，\"))\n",
    "        city_qu_jiedao[f\"{city_name}\"].append({area_name: area_xiaoqu})\n"
   ]
  },
  {
   "cell_type": "code",
   "execution_count": 132,
   "metadata": {},
   "outputs": [],
   "source": [
    "def spilt_jiedaos_into_batch(jiedaos, n = 10):\n",
    "    return [jiedaos[i:i + n] for i in range(0, len(jiedaos), n)] "
   ]
  },
  {
   "cell_type": "code",
   "execution_count": 172,
   "metadata": {},
   "outputs": [],
   "source": [
    "def save_info_to_dir():\n",
    "    city_qu_jiedao = get_city_disease_info()\n",
    "    shanghai_info = city_qu_jiedao[\"上海市\"]\n",
    "\n",
    "    dfs = []\n",
    "    for q, qu in enumerate(shanghai_info):\n",
    "\n",
    "        df_list = []\n",
    "        for key, value in qu.items():\n",
    "\n",
    "            jiedaos = value\n",
    "            batch_jiedaos = spilt_jiedaos_into_batch(jiedaos)\n",
    "            lats_and_lons = []\n",
    "            for batch in batch_jiedaos:\n",
    "                address = \"|\".join(batch)\n",
    "                lats_and_lons.extend(get_lat_and_lon(address))\n",
    "        \n",
    "        for i, (jiedao, lat_and_lon) in enumerate(list(zip(jiedaos, lats_and_lons))):\n",
    "            df_list.append({\n",
    "                \"ch_name\": jiedao,\n",
    "                \"city\": \"上海\",\n",
    "                \"lat_and_lon\": \",\".join(map(str, list(lats_and_lons[i]))) \n",
    "            })     \n",
    "        \n",
    "        df = pd.DataFrame(df_list, columns=df_list[0].keys())\n",
    "        df.to_csv(f\"~/{key}.csv\", index=False, encoding='gbk')\n",
    "\n",
    "        dfs.extend(df_list) \n",
    "    \n",
    "    df = pd.DataFrame(dfs, columns=dfs[0].keys())\n",
    "    df.to_csv(f\"~/shanghai.csv\", index=False, encoding='gbk')"
   ]
  },
  {
   "cell_type": "code",
   "execution_count": null,
   "metadata": {},
   "outputs": [],
   "source": []
  }
 ],
 "metadata": {
  "interpreter": {
   "hash": "d205047860c949e9af5c837acfbbfbfac21ff0b72181a1aaab063f5227bef3fb"
  },
  "kernelspec": {
   "display_name": "Python 3.8.8 ('base')",
   "language": "python",
   "name": "python3"
  },
  "language_info": {
   "codemirror_mode": {
    "name": "ipython",
    "version": 3
   },
   "file_extension": ".py",
   "mimetype": "text/x-python",
   "name": "python",
   "nbconvert_exporter": "python",
   "pygments_lexer": "ipython3",
   "version": "3.8.8"
  },
  "orig_nbformat": 4
 },
 "nbformat": 4,
 "nbformat_minor": 2
}
